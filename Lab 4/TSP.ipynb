# Travelling Salesman Problem

import math
import random
import numpy as np
import time
import matplotlib.pyplot as plt
from matplotlib.animation import FuncAnimation

def animateTSP(history, points):
    key_frames_mult = len(history) // 1500

    fig, ax = plt.subplots()
    line, = ax.plot([], [], lw=2, color='blue')  # Changed color to blue

    def init():
        x = [points[i][0] for i in history[0]]
        y = [points[i][1] for i in history[0]]
        ax.plot(x, y, 'co')  # Plotting cities as cyan circles

        extra_x = (max(x) - min(x)) * 0.05
        extra_y = (max(y) - min(y)) * 0.05
        ax.set_xlim(min(x) - extra_x, max(x) + extra_x)
        ax.set_ylim(min(y) - extra_y, max(y) + extra_y)

        line.set_data([], [])
        return line,

    def update(frame):
        x = [points[i][0] for i in history[frame] + [history[frame][0]]]
        y = [points[i][1] for i in history[frame] + [history[frame][0]]]
        line.set_data(x, y)
        return line

    ani = FuncAnimation(fig, update, frames=range(
        0, len(history), key_frames_mult), init_func=init, interval=3, repeat=False)

    plt.show()

class SimulatedAnnealingTSP:
    def __init__(self, coordinates, place, stopping_iter):
        self.coords = coordinates
        self.place = place
        self.N = len(coordinates)
        self.stopping_temperature = 1e-8
        self.temp = 1000
        self.stopping_iter = stopping_iter
        self.iteration = 1
        self.nodes = [i for i in range(self.N)]
        self.best_path = None
        self.best_cost = float("inf")
        self.cost_list = []
        self.path_history = []

    def path_cost(self, solution):
        cost = 0
        for i in range(self.N):
            cost += self.dist(solution[i % self.N], solution[(i + 1) % self.N])
        return cost

    def dist(self, node0, node1):
        coord0, coord1 = self.coords[node0], self.coords[node1]
        distance = math.sqrt(((coord0[0] - coord1[0]) ** 2) + ((coord0[1] - coord1[1]) ** 2))
        return distance

    def accept(self, candidate):
        candidate_cost = self.path_cost(candidate)

        if candidate_cost < self.best_cost:
            self.best_cost = candidate_cost
            self.best_path = candidate
        else:
            probability_accept = math.exp(-abs(candidate_cost - self.current_cost) / self.temp)
            if random.random() < probability_accept:
                self.current_cost = candidate_cost
                self.current_path = candidate

    def initial_solution(self):
        current_node = random.choice(self.nodes)
        path = [current_node]
        remaining_node = set(self.nodes)
        remaining_node.remove(current_node)
        while remaining_node:
            next_node = min(remaining_node, key=lambda x: self.dist(current_node, x))
            current_node = next_node
            remaining_node.remove(current_node)
            path.append(current_node)
        initial_cost = self.path_cost(path)
        if self.best_cost > initial_cost:
            self.best_cost = initial_cost
            self.best_path = path
        self.cost_list.append(initial_cost)
        self.path_history.append(path)
        return path, initial_cost

    def simulated_annealing(self):
        self.current_path, self.current_cost = self.initial_solution()
        while self.temp >= self.stopping_temperature and self.iteration < self.stopping_iter:
            candidate = list(self.current_path)
            l = random.randint(2, self.N - 1)
            i = random.randint(0, self.N - 1)
            candidate[i:(i + l)] = reversed(candidate[i:(i + l)])
            self.accept(candidate)
            self.temp *= 0.9995
            self.iteration += 1
            self.cost_list.append(self.current_cost)
            self.path_history.append(self.current_path)
        print("Best cost obtained:", self.best_cost)

    def display_optimal_path(self):
        n = len(self.best_path)
        tour = ''
        for i in range(0, n):
            x = self.best_path[i]
            tour = tour + self.place[x] + ' -> '
        tour += self.place[self.best_path[0]]
        print("Optimal Path:", tour)

    def animate_solutions(self):
        animateTSP(self.path_history, self.coords)

    def plot_learning(self):
        initial_cost = self.cost_list[0]
        plt.plot([i for i in range(len(self.cost_list))], self.cost_list)
        line_init = plt.axhline(y=initial_cost, color='r', linestyle='--')
        line_min = plt.axhline(y=self.best_cost, color='g', linestyle='--')
        plt.title("Learning progress")
        plt.legend([line_init, line_min], ['Initial Cost', 'Optimized Cost'])
        plt.ylabel("Cost")
        plt.xlabel("Iteration")
        plt.show()

def tsp_read(nodes_file):
    with open(nodes_file, 'r') as infile:
        content = infile.readline().strip().split()
        print("File Name:", content[2])

        while content[0] != 'NODE_COORD_SECTION':
            if content[0] == 'DIMENSION':
                dimension = content[2]
            content = infile.readline().strip().split()

        nodes = []
        places = []
        print('Dimension:', dimension)
        N = int(dimension)
        for _ in range(N):
            x, y, z = infile.readline().strip().split()[:]
            nodes.append([float(y), float(z)])
            places.append(x)

    return nodes, places

def main():
    nodes, places = tsp_read("Rajasthan.tsp")
    coords = np.array(nodes)
    n = len(coords)
    start = time.time_ns()
    sa = SimulatedAnnealingTSP(coords, places, stopping_iter=n*10000000)
    end = time.time_ns()
    print('Execution Time:', (end - start) / 1e9, 'seconds')
    sa.simulated_annealing()
    sa.display_optimal_path()
    sa.animate_solutions()
    sa.plot_learning()

if __name__ == "__main__":
    main()
